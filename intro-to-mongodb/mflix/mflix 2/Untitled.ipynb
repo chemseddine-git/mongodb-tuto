{
 "cells": [
  {
   "cell_type": "code",
   "execution_count": 1,
   "metadata": {},
   "outputs": [
    {
     "name": "stdout",
     "output_type": "stream",
     "text": [
      "Collecting Flask==0.12.2\n",
      "  Using cached Flask-0.12.2-py2.py3-none-any.whl (83 kB)\n",
      "Processing c:\\users\\chems\\appdata\\local\\pip\\cache\\wheels\\ba\\fe\\43\\659919277d75dff2d7f32ef221eefa4d2fb1559b42600339c2\\flask_bcrypt-0.7.1-py3-none-any.whl\n",
      "Collecting Flask-Login==0.4.0\n",
      "  Using cached Flask_Login-0.4.0-py2.py3-none-any.whl (15 kB)\n",
      "Collecting pymongo==3.6.0\n",
      "  Using cached pymongo-3.6.0.tar.gz (581 kB)\n",
      "Requirement already satisfied: Jinja2>=2.4 in c:\\programdata\\anaconda3\\lib\\site-packages (from Flask==0.12.2->-r requirements.txt (line 1)) (2.11.1)\n",
      "Requirement already satisfied: itsdangerous>=0.21 in c:\\programdata\\anaconda3\\lib\\site-packages (from Flask==0.12.2->-r requirements.txt (line 1)) (1.1.0)\n",
      "Requirement already satisfied: Werkzeug>=0.7 in c:\\programdata\\anaconda3\\lib\\site-packages (from Flask==0.12.2->-r requirements.txt (line 1)) (1.0.0)\n",
      "Requirement already satisfied: click>=2.0 in c:\\programdata\\anaconda3\\lib\\site-packages (from Flask==0.12.2->-r requirements.txt (line 1)) (7.0)\n",
      "Requirement already satisfied: bcrypt in c:\\programdata\\anaconda3\\lib\\site-packages (from Flask-Bcrypt==0.7.1->-r requirements.txt (line 2)) (3.1.7)\n",
      "Requirement already satisfied: MarkupSafe>=0.23 in c:\\programdata\\anaconda3\\lib\\site-packages (from Jinja2>=2.4->Flask==0.12.2->-r requirements.txt (line 1)) (1.1.1)\n",
      "Requirement already satisfied: cffi>=1.1 in c:\\programdata\\anaconda3\\lib\\site-packages (from bcrypt->Flask-Bcrypt==0.7.1->-r requirements.txt (line 2)) (1.14.0)\n",
      "Requirement already satisfied: six>=1.4.1 in c:\\programdata\\anaconda3\\lib\\site-packages (from bcrypt->Flask-Bcrypt==0.7.1->-r requirements.txt (line 2)) (1.14.0)\n",
      "Requirement already satisfied: pycparser in c:\\programdata\\anaconda3\\lib\\site-packages (from cffi>=1.1->bcrypt->Flask-Bcrypt==0.7.1->-r requirements.txt (line 2)) (2.19)\n",
      "Building wheels for collected packages: pymongo\n",
      "  Building wheel for pymongo (setup.py): started\n",
      "  Building wheel for pymongo (setup.py): finished with status 'done'\n",
      "  Created wheel for pymongo: filename=pymongo-3.6.0-cp37-cp37m-win_amd64.whl size=290630 sha256=71dd83422dd3e0a5302b0361e3cee196cc085c301dd9c6165281280ae5d6964f\n",
      "  Stored in directory: c:\\users\\chems\\appdata\\local\\pip\\cache\\wheels\\90\\d1\\54\\f9e76fbe597cc7a677fb8afd0eb46a31ddf8893fd6836e2107\n",
      "Successfully built pymongo\n",
      "Installing collected packages: Flask, Flask-Bcrypt, Flask-Login, pymongo\n",
      "  Attempting uninstall: Flask\n",
      "    Found existing installation: Flask 1.1.1\n",
      "    Uninstalling Flask-1.1.1:\n",
      "      Successfully uninstalled Flask-1.1.1\n",
      "  Attempting uninstall: pymongo\n",
      "    Found existing installation: pymongo 3.11.0\n",
      "    Uninstalling pymongo-3.11.0:\n",
      "      Successfully uninstalled pymongo-3.11.0\n"
     ]
    },
    {
     "name": "stderr",
     "output_type": "stream",
     "text": [
      "ERROR: Could not install packages due to an EnvironmentError: [WinError 5] Accès refusé: 'c:\\\\programdata\\\\anaconda3\\\\lib\\\\site-packages\\\\~son\\\\_cbson.cp37-win_amd64.pyd'\n",
      "Consider using the `--user` option or check the permissions.\n",
      "\n"
     ]
    }
   ],
   "source": [
    "!pip install -r requirements.txt"
   ]
  },
  {
   "cell_type": "code",
   "execution_count": null,
   "metadata": {},
   "outputs": [],
   "source": []
  }
 ],
 "metadata": {
  "kernelspec": {
   "display_name": "Python 3",
   "language": "python",
   "name": "python3"
  },
  "language_info": {
   "codemirror_mode": {
    "name": "ipython",
    "version": 3
   },
   "file_extension": ".py",
   "mimetype": "text/x-python",
   "name": "python",
   "nbconvert_exporter": "python",
   "pygments_lexer": "ipython3",
   "version": "3.7.6"
  }
 },
 "nbformat": 4,
 "nbformat_minor": 4
}
